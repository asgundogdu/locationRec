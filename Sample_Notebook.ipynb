{
 "cells": [
  {
   "cell_type": "code",
   "execution_count": 1,
   "metadata": {},
   "outputs": [],
   "source": [
    "import pandas as pd\n",
    "import numpy as np\n",
    "from collections import Counter\n",
    "import tqdm\n",
    "import math\n",
    "from sklearn.metrics import mean_squared_error\n",
    "import warnings\n",
    "warnings.filterwarnings('ignore')"
   ]
  },
  {
   "cell_type": "code",
   "execution_count": 2,
   "metadata": {},
   "outputs": [],
   "source": [
    "from CF.collaborative_filtering import locationRec"
   ]
  },
  {
   "cell_type": "markdown",
   "metadata": {},
   "source": [
    "# SVD"
   ]
  },
  {
   "cell_type": "markdown",
   "metadata": {},
   "source": [
    "## preprocess 1"
   ]
  },
  {
   "cell_type": "code",
   "execution_count": 3,
   "metadata": {},
   "outputs": [],
   "source": [
    "recmodel = locationRec()"
   ]
  },
  {
   "cell_type": "code",
   "execution_count": 4,
   "metadata": {},
   "outputs": [],
   "source": [
    "recmodel.datapipeline(preproccesing=1)"
   ]
  },
  {
   "cell_type": "code",
   "execution_count": 5,
   "metadata": {},
   "outputs": [
    {
     "name": "stdout",
     "output_type": "stream",
     "text": [
      "Training using SVD model...\n",
      "Done\n"
     ]
    }
   ],
   "source": [
    "recmodel.train_model(model_type='SVD', latent_dimension=50, N=10)"
   ]
  },
  {
   "cell_type": "code",
   "execution_count": 6,
   "metadata": {},
   "outputs": [
    {
     "name": "stderr",
     "output_type": "stream",
     "text": [
      "100%|██████████| 21347/21347 [10:24<00:00, 34.29it/s]\n"
     ]
    },
    {
     "data": {
      "text/plain": [
       "(0.33027438744608606, 0.21903052064631956)"
      ]
     },
     "execution_count": 6,
     "metadata": {},
     "output_type": "execute_result"
    }
   ],
   "source": [
    "recmodel.eval_precision_N(N=10, data = 'train')"
   ]
  },
  {
   "cell_type": "code",
   "execution_count": 7,
   "metadata": {},
   "outputs": [
    {
     "name": "stderr",
     "output_type": "stream",
     "text": [
      "100%|██████████| 11663/11663 [04:18<00:00, 45.11it/s]\n"
     ]
    },
    {
     "data": {
      "text/plain": [
       "(0.19601237664548968, 0.13854774630207187)"
      ]
     },
     "execution_count": 7,
     "metadata": {},
     "output_type": "execute_result"
    }
   ],
   "source": [
    "recmodel.eval_precision_N(N=10, data = 'val')"
   ]
  },
  {
   "cell_type": "code",
   "execution_count": 8,
   "metadata": {},
   "outputs": [
    {
     "name": "stderr",
     "output_type": "stream",
     "text": [
      "100%|██████████| 164315/164315 [01:40<00:00, 1639.99it/s]\n"
     ]
    }
   ],
   "source": [
    "recmodel.eval_rmse(data = 'train')"
   ]
  },
  {
   "cell_type": "code",
   "execution_count": 9,
   "metadata": {},
   "outputs": [
    {
     "name": "stderr",
     "output_type": "stream",
     "text": [
      "100%|██████████| 77273/77273 [00:47<00:00, 1639.63it/s]\n"
     ]
    }
   ],
   "source": [
    "recmodel.eval_rmse(data = 'val')"
   ]
  },
  {
   "cell_type": "code",
   "execution_count": 11,
   "metadata": {},
   "outputs": [
    {
     "name": "stdout",
     "output_type": "stream",
     "text": [
      "recmodel.precision_train: 0.33027438744608606\n",
      "recmodel.recall_train: 0.21903052064631956\n",
      "recmodel.precision_val: 0.19601237664548968\n",
      "recmodel.recall_val: 0.13854774630207187\n",
      "recmodel.rmse_train: 4099.967154087157\n",
      "recmodel.rmse_val: 5731.075477210587\n"
     ]
    }
   ],
   "source": [
    "print('recmodel.precision_train: {}\\nrecmodel.recall_train: {}\\nrecmodel.precision_val: {}\\nrecmodel.recall_val: {}\\nrecmodel.rmse_train: {}\\nrecmodel.rmse_val: {}'.format(recmodel.precision_train, recmodel.recall_train, recmodel.precision_val, recmodel.recall_val, recmodel.rmse_train, recmodel.rmse_val))"
   ]
  },
  {
   "cell_type": "markdown",
   "metadata": {},
   "source": [
    "## preprocess 2"
   ]
  },
  {
   "cell_type": "code",
   "execution_count": 12,
   "metadata": {},
   "outputs": [],
   "source": [
    "recmodel = locationRec()\n",
    "recmodel.datapipeline(preproccesing=2)"
   ]
  },
  {
   "cell_type": "code",
   "execution_count": 13,
   "metadata": {},
   "outputs": [
    {
     "name": "stdout",
     "output_type": "stream",
     "text": [
      "Training using SVD model...\n",
      "Done\n"
     ]
    }
   ],
   "source": [
    "recmodel.train_model(model_type='SVD', latent_dimension=50)"
   ]
  },
  {
   "cell_type": "code",
   "execution_count": 14,
   "metadata": {},
   "outputs": [
    {
     "name": "stderr",
     "output_type": "stream",
     "text": [
      "100%|██████████| 21347/21347 [11:19<00:00, 31.40it/s]\n",
      "100%|██████████| 11663/11663 [04:49<00:00, 40.29it/s]\n"
     ]
    },
    {
     "data": {
      "text/plain": [
       "(0.2652422011412525, 0.19068756227919195)"
      ]
     },
     "execution_count": 14,
     "metadata": {},
     "output_type": "execute_result"
    }
   ],
   "source": [
    "recmodel.eval_precision_N(N=10, data = 'train')\n",
    "recmodel.eval_precision_N(N=10, data = 'val')"
   ]
  },
  {
   "cell_type": "code",
   "execution_count": 15,
   "metadata": {},
   "outputs": [
    {
     "name": "stderr",
     "output_type": "stream",
     "text": [
      "100%|██████████| 164315/164315 [02:09<00:00, 1266.26it/s]\n",
      "100%|██████████| 77273/77273 [00:59<00:00, 1299.56it/s]\n"
     ]
    }
   ],
   "source": [
    "recmodel.eval_rmse(data = 'train')\n",
    "recmodel.eval_rmse(data = 'val')"
   ]
  },
  {
   "cell_type": "code",
   "execution_count": 16,
   "metadata": {},
   "outputs": [
    {
     "name": "stdout",
     "output_type": "stream",
     "text": [
      "recmodel.precision_train: 0.4932180934956785\n",
      "recmodel.recall_train: 0.33305541186136384\n",
      "recmodel.precision_val: 0.2652422011412525\n",
      "recmodel.recall_val: 0.19068756227919195\n",
      "recmodel.rmse_train: 327.28286157077673\n",
      "recmodel.rmse_val: 242.48063158101945\n"
     ]
    }
   ],
   "source": [
    "print('recmodel.precision_train: {}\\nrecmodel.recall_train: {}\\nrecmodel.precision_val: {}\\nrecmodel.recall_val: {}\\nrecmodel.rmse_train: {}\\nrecmodel.rmse_val: {}'.format(recmodel.precision_train, recmodel.recall_train, recmodel.precision_val, recmodel.recall_val, recmodel.rmse_train, recmodel.rmse_val))"
   ]
  },
  {
   "cell_type": "code",
   "execution_count": 13,
   "metadata": {},
   "outputs": [
    {
     "data": {
      "text/html": [
       "<div>\n",
       "<style scoped>\n",
       "    .dataframe tbody tr th:only-of-type {\n",
       "        vertical-align: middle;\n",
       "    }\n",
       "\n",
       "    .dataframe tbody tr th {\n",
       "        vertical-align: top;\n",
       "    }\n",
       "\n",
       "    .dataframe thead th {\n",
       "        text-align: right;\n",
       "    }\n",
       "</style>\n",
       "<table border=\"1\" class=\"dataframe\">\n",
       "  <thead>\n",
       "    <tr style=\"text-align: right;\">\n",
       "      <th></th>\n",
       "      <th>user_nickname</th>\n",
       "      <th>town</th>\n",
       "      <th>date_taken</th>\n",
       "    </tr>\n",
       "  </thead>\n",
       "  <tbody>\n",
       "    <tr>\n",
       "      <th>0</th>\n",
       "      <td>nino63004</td>\n",
       "      <td>Key West</td>\n",
       "      <td>2012-02-16</td>\n",
       "    </tr>\n",
       "    <tr>\n",
       "      <th>1</th>\n",
       "      <td>sarabeephoto</td>\n",
       "      <td>New York</td>\n",
       "      <td>2012-05-28</td>\n",
       "    </tr>\n",
       "    <tr>\n",
       "      <th>13</th>\n",
       "      <td>EronsPics</td>\n",
       "      <td>Bradenton Beach</td>\n",
       "      <td>2012-11-14</td>\n",
       "    </tr>\n",
       "    <tr>\n",
       "      <th>24</th>\n",
       "      <td>CherryPoint</td>\n",
       "      <td>Havelock</td>\n",
       "      <td>2012-08-21</td>\n",
       "    </tr>\n",
       "    <tr>\n",
       "      <th>32</th>\n",
       "      <td>quinn.anya</td>\n",
       "      <td>Berkeley</td>\n",
       "      <td>2012-09-30</td>\n",
       "    </tr>\n",
       "  </tbody>\n",
       "</table>\n",
       "</div>"
      ],
      "text/plain": [
       "   user_nickname             town date_taken\n",
       "0      nino63004         Key West 2012-02-16\n",
       "1   sarabeephoto         New York 2012-05-28\n",
       "13     EronsPics  Bradenton Beach 2012-11-14\n",
       "24   CherryPoint         Havelock 2012-08-21\n",
       "32    quinn.anya         Berkeley 2012-09-30"
      ]
     },
     "execution_count": 13,
     "metadata": {},
     "output_type": "execute_result"
    }
   ],
   "source": [
    "recmodel.validate.head()"
   ]
  },
  {
   "cell_type": "code",
   "execution_count": 19,
   "metadata": {},
   "outputs": [
    {
     "data": {
      "text/plain": [
       "array(['Ocala'], dtype=object)"
      ]
     },
     "execution_count": 19,
     "metadata": {},
     "output_type": "execute_result"
    }
   ],
   "source": [
    "recmodel.train[recmodel.train.user_nickname=='EronsPics'].town.unique()"
   ]
  },
  {
   "cell_type": "code",
   "execution_count": 20,
   "metadata": {},
   "outputs": [
    {
     "data": {
      "text/plain": [
       "array(['Bradenton Beach', 'Tampa', 'Kissimmee', 'Wesley Chapel',\n",
       "       'Dade City'], dtype=object)"
      ]
     },
     "execution_count": 20,
     "metadata": {},
     "output_type": "execute_result"
    }
   ],
   "source": [
    "recmodel.validate[recmodel.validate.user_nickname=='EronsPics'].town.unique()"
   ]
  },
  {
   "cell_type": "code",
   "execution_count": 21,
   "metadata": {},
   "outputs": [
    {
     "data": {
      "text/plain": [
       "['Atlanta',\n",
       " 'Orlando',\n",
       " 'Nashville',\n",
       " 'Tampa',\n",
       " 'Decatur',\n",
       " 'Old Town',\n",
       " 'Philadelphia',\n",
       " 'Memphis',\n",
       " 'Town',\n",
       " 'Kissimmee']"
      ]
     },
     "execution_count": 21,
     "metadata": {},
     "output_type": "execute_result"
    }
   ],
   "source": [
    "recmodel.recommend_N_cities_for_user(10, 'EronsPics', data='val')[0]"
   ]
  },
  {
   "cell_type": "markdown",
   "metadata": {},
   "source": [
    "# SVD_implicit"
   ]
  },
  {
   "cell_type": "markdown",
   "metadata": {},
   "source": [
    "## preprocess 1"
   ]
  },
  {
   "cell_type": "code",
   "execution_count": 7,
   "metadata": {},
   "outputs": [
    {
     "name": "stdout",
     "output_type": "stream",
     "text": [
      "Training using SVD_implicit model...\n"
     ]
    },
    {
     "name": "stderr",
     "output_type": "stream",
     "text": [
      "  7%|▋         | 1.0/15 [00:00<00:01,  7.68it/s]"
     ]
    },
    {
     "name": "stdout",
     "output_type": "stream",
     "text": [
      "Tranining model...\n"
     ]
    },
    {
     "name": "stderr",
     "output_type": "stream",
     "text": [
      "100%|██████████| 15.0/15 [00:01<00:00,  7.78it/s]\n"
     ]
    },
    {
     "name": "stdout",
     "output_type": "stream",
     "text": [
      "Computing RMSE for training set\n",
      "<class 'ValueError'> Abbeville\n",
      "<class 'ValueError'> Abbeville\n",
      "Computing RMSE for validation set\n"
     ]
    },
    {
     "name": "stderr",
     "output_type": "stream",
     "text": [
      "  0%|          | 6/3000 [00:00<00:53, 55.54it/s]"
     ]
    },
    {
     "name": "stdout",
     "output_type": "stream",
     "text": [
      "Calculating precision, recall on training set\n"
     ]
    },
    {
     "name": "stderr",
     "output_type": "stream",
     "text": [
      "100%|██████████| 3000/3000 [00:48<00:00, 62.03it/s]\n",
      "  0%|          | 10/3000 [00:00<00:30, 99.44it/s]"
     ]
    },
    {
     "name": "stdout",
     "output_type": "stream",
     "text": [
      "tp:7671.0, fp:6848.0, fn:14159.0\n",
      "Calculating precision, recall on validation set\n"
     ]
    },
    {
     "name": "stderr",
     "output_type": "stream",
     "text": [
      "100%|██████████| 3000/3000 [00:25<00:00, 119.39it/s]"
     ]
    },
    {
     "name": "stdout",
     "output_type": "stream",
     "text": [
      "tp:2227.0, fp:4996.0, fn:7874.0\n",
      "Done\n"
     ]
    },
    {
     "name": "stderr",
     "output_type": "stream",
     "text": [
      "\n"
     ]
    }
   ],
   "source": [
    "recmodel = locationRec()\n",
    "recmodel.datapipeline(preproccesing=1)\n",
    "recmodel.train_model(model_type='SVD_implicit', latent_dimension=50, N=10)"
   ]
  },
  {
   "cell_type": "code",
   "execution_count": 8,
   "metadata": {},
   "outputs": [
    {
     "name": "stdout",
     "output_type": "stream",
     "text": [
      "recmodel.precision_train: 0.5283421723259177\n",
      "recmodel.recall_train: 0.35139715987173614\n",
      "recmodel.precision_val: 0.30832064239235774\n",
      "recmodel.recall_val: 0.22047322047322046\n",
      "recmodel.rmse_train: 231.03805144236637\n",
      "recmodel.rmse_val: 238.47874319716914\n"
     ]
    }
   ],
   "source": [
    "print('recmodel.precision_train: {}\\nrecmodel.recall_train: {}\\nrecmodel.precision_val: {}\\nrecmodel.recall_val: {}\\nrecmodel.rmse_train: {}\\nrecmodel.rmse_val: {}'.format(recmodel.precision_train, recmodel.recall_train, recmodel.precision_val, recmodel.recall_val, recmodel.rmse_train, recmodel.rmse_val))"
   ]
  },
  {
   "cell_type": "markdown",
   "metadata": {},
   "source": [
    "## preprocess 2"
   ]
  },
  {
   "cell_type": "code",
   "execution_count": 3,
   "metadata": {},
   "outputs": [
    {
     "name": "stdout",
     "output_type": "stream",
     "text": [
      "Training using SVD_implicit model...\n"
     ]
    },
    {
     "name": "stderr",
     "output_type": "stream",
     "text": [
      "WARNING:root:Intel MKL BLAS detected. Its highly recommend to set the environment variable 'export MKL_NUM_THREADS=1' to disable its internal multithreading\n",
      "  7%|▋         | 1.0/15 [00:00<00:01,  9.56it/s]"
     ]
    },
    {
     "name": "stdout",
     "output_type": "stream",
     "text": [
      "Tranining model...\n"
     ]
    },
    {
     "name": "stderr",
     "output_type": "stream",
     "text": [
      "100%|██████████| 15.0/15 [00:01<00:00,  9.19it/s]\n"
     ]
    },
    {
     "name": "stdout",
     "output_type": "stream",
     "text": [
      "Computing RMSE for training set\n",
      "<class 'ValueError'> Abbeville\n",
      "<class 'ValueError'> Abbeville\n",
      "Computing RMSE for validation set\n"
     ]
    },
    {
     "name": "stderr",
     "output_type": "stream",
     "text": [
      "  0%|          | 6/3000 [00:00<00:51, 57.76it/s]"
     ]
    },
    {
     "name": "stdout",
     "output_type": "stream",
     "text": [
      "Calculating precision, recall on training set\n"
     ]
    },
    {
     "name": "stderr",
     "output_type": "stream",
     "text": [
      "100%|██████████| 3000/3000 [00:48<00:00, 61.97it/s]\n",
      "  0%|          | 11/3000 [00:00<00:27, 109.84it/s]"
     ]
    },
    {
     "name": "stdout",
     "output_type": "stream",
     "text": [
      "tp:6849.0, fp:7670.0, fn:15128.0\n",
      "Calculating precision, recall on validation set\n"
     ]
    },
    {
     "name": "stderr",
     "output_type": "stream",
     "text": [
      "100%|██████████| 3000/3000 [00:25<00:00, 115.73it/s]"
     ]
    },
    {
     "name": "stdout",
     "output_type": "stream",
     "text": [
      "tp:1706.0, fp:5517.0, fn:8428.0\n",
      "Done\n"
     ]
    },
    {
     "name": "stderr",
     "output_type": "stream",
     "text": [
      "\n"
     ]
    }
   ],
   "source": [
    "recmodel = locationRec()\n",
    "recmodel.datapipeline(preproccesing=2)\n",
    "recmodel.train_model(model_type='SVD_implicit', latent_dimension=50, N=10)"
   ]
  },
  {
   "cell_type": "code",
   "execution_count": 6,
   "metadata": {},
   "outputs": [
    {
     "name": "stdout",
     "output_type": "stream",
     "text": [
      "recmodel.precision_train: 0.4717267029409739\n",
      "recmodel.recall_train: 0.31164399144560223\n",
      "recmodel.precision_val: 0.23618994877474733\n",
      "recmodel.recall_val: 0.16834418788237615\n",
      "recmodel.rmse_train: 0.804924702614941\n",
      "recmodel.rmse_val: 0.8961445568967622\n"
     ]
    }
   ],
   "source": [
    "print('recmodel.precision_train: {}\\nrecmodel.recall_train: {}\\nrecmodel.precision_val: {}\\nrecmodel.recall_val: {}\\nrecmodel.rmse_train: {}\\nrecmodel.rmse_val: {}'.format(recmodel.precision_train, recmodel.recall_train, recmodel.precision_val, recmodel.recall_val, recmodel.rmse_train, recmodel.rmse_val))"
   ]
  },
  {
   "cell_type": "markdown",
   "metadata": {},
   "source": [
    "# KfoldCV"
   ]
  },
  {
   "cell_type": "code",
   "execution_count": 19,
   "metadata": {},
   "outputs": [],
   "source": [
    "prep = [1,2]\n",
    "latent_dim = [20,30,40,50,70,100]\n",
    "model = ['SVD', 'SVD_implicit']"
   ]
  },
  {
   "cell_type": "code",
   "execution_count": 20,
   "metadata": {},
   "outputs": [
    {
     "name": "stdout",
     "output_type": "stream",
     "text": [
      "Training using SVD model...\n",
      "Done\n"
     ]
    },
    {
     "name": "stderr",
     "output_type": "stream",
     "text": [
      "100%|██████████| 21347/21347 [10:52<00:00, 32.82it/s]\n",
      "100%|██████████| 11663/11663 [04:37<00:00, 42.01it/s]\n",
      "100%|██████████| 164315/164315 [01:53<00:00, 1453.77it/s]\n",
      "100%|██████████| 77273/77273 [00:53<00:00, 1446.50it/s]\n"
     ]
    },
    {
     "name": "stdout",
     "output_type": "stream",
     "text": [
      "Model:SVD ,Preprocessing:1, LatentDimensions:20\n",
      "recmodel.precision_train: 0.23293375278590492\n",
      "recmodel.recall_train: 0.15456288226881296\n",
      "recmodel.precision_val: 0.162331265961328\n",
      "recmodel.recall_val: 0.1151631229536837\n",
      "recmodel.rmse_train: 3873.0836673483577\n",
      "recmodel.rmse_val: 5449.531762751489\n",
      "\n",
      "Training using SVD model...\n",
      "Done\n"
     ]
    },
    {
     "name": "stderr",
     "output_type": "stream",
     "text": [
      "100%|██████████| 21347/21347 [10:58<00:00, 32.40it/s]\n",
      "100%|██████████| 11663/11663 [04:34<00:00, 42.51it/s]\n",
      "100%|██████████| 164315/164315 [01:52<00:00, 1465.70it/s]\n",
      "100%|██████████| 77273/77273 [00:52<00:00, 1469.66it/s]\n"
     ]
    },
    {
     "name": "stdout",
     "output_type": "stream",
     "text": [
      "Model:SVD ,Preprocessing:1, LatentDimensions:30\n",
      "recmodel.precision_train: 0.28226020805645935\n",
      "recmodel.recall_train: 0.18742050330158536\n",
      "recmodel.precision_val: 0.18215355394842575\n",
      "recmodel.recall_val: 0.1290748385593933\n",
      "recmodel.rmse_train: 3996.0083552431493\n",
      "recmodel.rmse_val: 5603.107572151842\n",
      "\n",
      "Training using SVD model...\n",
      "Done\n"
     ]
    },
    {
     "name": "stderr",
     "output_type": "stream",
     "text": [
      "100%|██████████| 21347/21347 [10:53<00:00, 32.62it/s]\n",
      "100%|██████████| 11663/11663 [04:41<00:00, 41.40it/s]\n",
      "100%|██████████| 164315/164315 [02:04<00:00, 1324.09it/s]\n",
      "100%|██████████| 77273/77273 [00:57<00:00, 1336.55it/s]\n"
     ]
    },
    {
     "name": "stdout",
     "output_type": "stream",
     "text": [
      "Model:SVD ,Preprocessing:1, LatentDimensions:40\n",
      "recmodel.precision_train: 0.31143181984889606\n",
      "recmodel.recall_train: 0.2067127164288105\n",
      "recmodel.precision_val: 0.19140960705077803\n",
      "recmodel.recall_val: 0.13546775717262174\n",
      "recmodel.rmse_train: 4060.3615868985185\n",
      "recmodel.rmse_val: 5689.94646996639\n",
      "\n",
      "Training using SVD model...\n",
      "Done\n"
     ]
    },
    {
     "name": "stderr",
     "output_type": "stream",
     "text": [
      "100%|██████████| 21347/21347 [11:26<00:00, 31.09it/s]\n",
      "100%|██████████| 11663/11663 [04:41<00:00, 41.39it/s]\n",
      "100%|██████████| 164315/164315 [02:01<00:00, 1352.83it/s]\n",
      "100%|██████████| 77273/77273 [00:57<00:00, 1347.42it/s]\n"
     ]
    },
    {
     "name": "stdout",
     "output_type": "stream",
     "text": [
      "Model:SVD ,Preprocessing:1, LatentDimensions:50\n",
      "recmodel.precision_train: 0.33027438744608606\n",
      "recmodel.recall_train: 0.21903052064631956\n",
      "recmodel.precision_val: 0.19601237664548968\n",
      "recmodel.recall_val: 0.13854774630207187\n",
      "recmodel.rmse_train: 4099.967154087163\n",
      "recmodel.rmse_val: 5731.075477210597\n",
      "\n",
      "Training using SVD model...\n",
      "Done\n"
     ]
    },
    {
     "name": "stderr",
     "output_type": "stream",
     "text": [
      "100%|██████████| 21347/21347 [11:12<00:00, 31.75it/s]\n",
      "100%|██████████| 11663/11663 [04:43<00:00, 41.07it/s]\n",
      "100%|██████████| 164315/164315 [02:10<00:00, 1256.82it/s]\n",
      "100%|██████████| 77273/77273 [01:02<00:00, 1243.30it/s]\n"
     ]
    },
    {
     "name": "stdout",
     "output_type": "stream",
     "text": [
      "Model:SVD ,Preprocessing:1, LatentDimensions:70\n",
      "recmodel.precision_train: 0.374978271808243\n",
      "recmodel.recall_train: 0.24944162127620728\n",
      "recmodel.precision_val: 0.21629069937217113\n",
      "recmodel.recall_val: 0.15336534106350214\n",
      "recmodel.rmse_train: 4160.5983551226345\n",
      "recmodel.rmse_val: 5790.160393189069\n",
      "\n",
      "Training using SVD model...\n",
      "Done\n"
     ]
    },
    {
     "name": "stderr",
     "output_type": "stream",
     "text": [
      "100%|██████████| 21347/21347 [11:40<00:00, 30.46it/s]\n",
      "100%|██████████| 11663/11663 [04:48<00:00, 40.47it/s]\n",
      "100%|██████████| 164315/164315 [02:03<00:00, 1335.83it/s]\n",
      "100%|██████████| 77273/77273 [00:58<00:00, 1331.11it/s]\n"
     ]
    },
    {
     "name": "stdout",
     "output_type": "stream",
     "text": [
      "Model:SVD ,Preprocessing:1, LatentDimensions:100\n",
      "recmodel.precision_train: 0.41559354208686605\n",
      "recmodel.recall_train: 0.27713233727900677\n",
      "recmodel.precision_val: 0.23416555723743002\n",
      "recmodel.recall_val: 0.16616411942075499\n",
      "recmodel.rmse_train: 4209.124164751208\n",
      "recmodel.rmse_val: 5848.582462292582\n",
      "\n",
      "Training using SVD model...\n",
      "Done\n"
     ]
    },
    {
     "name": "stderr",
     "output_type": "stream",
     "text": [
      "100%|██████████| 21347/21347 [11:18<00:00, 31.47it/s]\n",
      "100%|██████████| 11663/11663 [04:43<00:00, 41.17it/s]\n",
      "100%|██████████| 164315/164315 [01:58<00:00, 1386.06it/s]\n",
      "100%|██████████| 77273/77273 [39:43<00:00, 32.42it/s] \n"
     ]
    },
    {
     "name": "stdout",
     "output_type": "stream",
     "text": [
      "Model:SVD ,Preprocessing:2, LatentDimensions:20\n",
      "recmodel.precision_train: 0.3831043570400022\n",
      "recmodel.recall_train: 0.2574445424945988\n",
      "recmodel.precision_val: 0.23449871651180448\n",
      "recmodel.recall_val: 0.16787234868582818\n",
      "recmodel.rmse_train: 285.3222649048368\n",
      "recmodel.rmse_val: 222.8895987391041\n",
      "\n",
      "Training using SVD model...\n",
      "Done\n"
     ]
    },
    {
     "name": "stderr",
     "output_type": "stream",
     "text": [
      "100%|██████████| 21347/21347 [54:11<00:00, 33.10it/s]\n",
      "100%|██████████| 11663/11663 [04:33<00:00, 42.60it/s]\n",
      "100%|██████████| 164315/164315 [01:53<00:00, 1441.84it/s]\n",
      "100%|██████████| 77273/77273 [00:53<00:00, 1446.15it/s]\n"
     ]
    },
    {
     "name": "stdout",
     "output_type": "stream",
     "text": [
      "Model:SVD ,Preprocessing:2, LatentDimensions:30\n",
      "recmodel.precision_train: 0.42958669765002666\n",
      "recmodel.recall_train: 0.2891458479140675\n",
      "recmodel.precision_val: 0.24687483088911738\n",
      "recmodel.recall_val: 0.17711231607417857\n",
      "recmodel.rmse_train: 302.9143378125873\n",
      "recmodel.rmse_val: 230.1302922216069\n",
      "\n",
      "Training using SVD model...\n",
      "Done\n"
     ]
    },
    {
     "name": "stderr",
     "output_type": "stream",
     "text": [
      "100%|██████████| 21347/21347 [10:48<00:00, 33.45it/s]\n",
      "100%|██████████| 11663/11663 [04:32<00:00, 42.79it/s]\n",
      "100%|██████████| 164315/164315 [01:52<00:00, 1465.40it/s]\n",
      "100%|██████████| 77273/77273 [00:52<00:00, 1462.63it/s]\n"
     ]
    },
    {
     "name": "stdout",
     "output_type": "stream",
     "text": [
      "Model:SVD ,Preprocessing:2, LatentDimensions:40\n",
      "recmodel.precision_train: 0.46428700361010833\n",
      "recmodel.recall_train: 0.3130754952378054\n",
      "recmodel.precision_val: 0.2570929016907603\n",
      "recmodel.recall_val: 0.18457934854347574\n",
      "recmodel.rmse_train: 316.87580390449904\n",
      "recmodel.rmse_val: 237.00095105258552\n",
      "\n",
      "Training using SVD model...\n",
      "Done\n"
     ]
    },
    {
     "name": "stderr",
     "output_type": "stream",
     "text": [
      "100%|██████████| 21347/21347 [10:52<00:00, 33.27it/s]\n",
      "100%|██████████| 11663/11663 [04:30<00:00, 43.07it/s]\n",
      "100%|██████████| 164315/164315 [01:51<00:00, 1479.25it/s]\n",
      "100%|██████████| 77273/77273 [00:51<00:00, 1486.12it/s]\n"
     ]
    },
    {
     "name": "stdout",
     "output_type": "stream",
     "text": [
      "Model:SVD ,Preprocessing:2, LatentDimensions:50\n",
      "recmodel.precision_train: 0.4932180934956785\n",
      "recmodel.recall_train: 0.33305541186136384\n",
      "recmodel.precision_val: 0.2652422011412525\n",
      "recmodel.recall_val: 0.19068756227919195\n",
      "recmodel.rmse_train: 327.2828615707769\n",
      "recmodel.rmse_val: 242.48063158101962\n",
      "\n",
      "Training using SVD model...\n",
      "Done\n"
     ]
    },
    {
     "name": "stderr",
     "output_type": "stream",
     "text": [
      "100%|██████████| 21347/21347 [10:56<00:00, 32.44it/s]\n",
      "100%|██████████| 11663/11663 [04:33<00:00, 42.66it/s]\n",
      "100%|██████████| 164315/164315 [01:54<00:00, 1440.84it/s]\n",
      "100%|██████████| 77273/77273 [00:53<00:00, 1447.00it/s]\n"
     ]
    },
    {
     "name": "stdout",
     "output_type": "stream",
     "text": [
      "Model:SVD ,Preprocessing:2, LatentDimensions:70\n",
      "recmodel.precision_train: 0.5419409449882484\n",
      "recmodel.recall_train: 0.36625992757812736\n",
      "recmodel.precision_val: 0.2756247866472628\n",
      "recmodel.recall_val: 0.19852988754157339\n",
      "recmodel.rmse_train: 344.4546317645763\n",
      "recmodel.rmse_val: 251.25331252399502\n",
      "\n",
      "Training using SVD model...\n",
      "Done\n"
     ]
    },
    {
     "name": "stderr",
     "output_type": "stream",
     "text": [
      "100%|██████████| 21347/21347 [10:54<00:00, 32.63it/s]\n",
      "100%|██████████| 11663/11663 [04:31<00:00, 42.90it/s]\n",
      "100%|██████████| 164315/164315 [01:52<00:00, 1466.16it/s]\n",
      "100%|██████████| 77273/77273 [00:52<00:00, 1469.72it/s]\n"
     ]
    },
    {
     "name": "stdout",
     "output_type": "stream",
     "text": [
      "Model:SVD ,Preprocessing:2, LatentDimensions:100\n",
      "recmodel.precision_train: 0.6029700650602844\n",
      "recmodel.recall_train: 0.4072300155189727\n",
      "recmodel.precision_val: 0.28870067648800446\n",
      "recmodel.recall_val: 0.20820985337698808\n",
      "recmodel.rmse_train: 362.8535765175601\n",
      "recmodel.rmse_val: 260.32307336557534\n",
      "\n",
      "Training using SVD_implicit model...\n"
     ]
    },
    {
     "name": "stderr",
     "output_type": "stream",
     "text": [
      "WARNING:root:Intel MKL BLAS detected. Its highly recommend to set the environment variable 'export MKL_NUM_THREADS=1' to disable its internal multithreading\n",
      "  7%|▋         | 1.0/15 [00:00<00:01,  9.25it/s]"
     ]
    },
    {
     "name": "stdout",
     "output_type": "stream",
     "text": [
      "Tranining model...\n"
     ]
    },
    {
     "name": "stderr",
     "output_type": "stream",
     "text": [
      "100%|██████████| 15.0/15 [00:01<00:00, 10.24it/s]\n"
     ]
    },
    {
     "name": "stdout",
     "output_type": "stream",
     "text": [
      "Computing RMSE for training set\n",
      "<class 'ValueError'> Abbeville\n",
      "<class 'ValueError'> Abbeville\n",
      "Computing RMSE for validation set\n"
     ]
    },
    {
     "name": "stderr",
     "output_type": "stream",
     "text": [
      "  0%|          | 6/3000 [00:00<00:51, 57.59it/s]"
     ]
    },
    {
     "name": "stdout",
     "output_type": "stream",
     "text": [
      "Calculating precision, recall on training set\n"
     ]
    },
    {
     "name": "stderr",
     "output_type": "stream",
     "text": [
      "100%|██████████| 3000/3000 [00:48<00:00, 61.33it/s]\n",
      "  0%|          | 12/3000 [00:00<00:26, 112.14it/s]"
     ]
    },
    {
     "name": "stdout",
     "output_type": "stream",
     "text": [
      "tp:5315.0, fp:9204.0, fn:16498.0\n",
      "Calculating precision, recall on validation set\n"
     ]
    },
    {
     "name": "stderr",
     "output_type": "stream",
     "text": [
      "100%|██████████| 3000/3000 [00:25<00:00, 119.01it/s]\n"
     ]
    },
    {
     "name": "stdout",
     "output_type": "stream",
     "text": [
      "tp:1779.0, fp:5444.0, fn:8291.0\n",
      "Done\n",
      "Model:SVD_implicit ,Preprocessing:1, LatentDimensions:20\n",
      "recmodel.precision_train: 0.36607204352916867\n",
      "recmodel.recall_train: 0.24366203640031175\n",
      "recmodel.precision_val: 0.24629655267894227\n",
      "recmodel.recall_val: 0.1766633565044687\n",
      "recmodel.rmse_train: 231.04523643395967\n",
      "recmodel.rmse_val: 238.48149919074496\n",
      "\n",
      "Training using SVD_implicit model...\n"
     ]
    },
    {
     "name": "stderr",
     "output_type": "stream",
     "text": [
      "  7%|▋         | 1.0/15 [00:00<00:01,  9.18it/s]"
     ]
    },
    {
     "name": "stdout",
     "output_type": "stream",
     "text": [
      "Tranining model...\n"
     ]
    },
    {
     "name": "stderr",
     "output_type": "stream",
     "text": [
      "100%|██████████| 15.0/15 [00:01<00:00,  9.48it/s]\n"
     ]
    },
    {
     "name": "stdout",
     "output_type": "stream",
     "text": [
      "Computing RMSE for training set\n",
      "<class 'ValueError'> Abbeville\n",
      "<class 'ValueError'> Abbeville\n",
      "Computing RMSE for validation set\n"
     ]
    },
    {
     "name": "stderr",
     "output_type": "stream",
     "text": [
      "  0%|          | 6/3000 [00:00<00:51, 57.75it/s]"
     ]
    },
    {
     "name": "stdout",
     "output_type": "stream",
     "text": [
      "Calculating precision, recall on training set\n"
     ]
    },
    {
     "name": "stderr",
     "output_type": "stream",
     "text": [
      "100%|██████████| 3000/3000 [00:52<00:00, 56.61it/s]\n",
      "  0%|          | 12/3000 [00:00<00:26, 111.32it/s]"
     ]
    },
    {
     "name": "stdout",
     "output_type": "stream",
     "text": [
      "tp:6327.0, fp:8192.0, fn:15488.0\n",
      "Calculating precision, recall on validation set\n"
     ]
    },
    {
     "name": "stderr",
     "output_type": "stream",
     "text": [
      "100%|██████████| 3000/3000 [00:27<00:00, 107.63it/s]\n"
     ]
    },
    {
     "name": "stdout",
     "output_type": "stream",
     "text": [
      "tp:2028.0, fp:5195.0, fn:8061.0\n",
      "Done\n",
      "Model:SVD_implicit ,Preprocessing:1, LatentDimensions:30\n",
      "recmodel.precision_train: 0.4357738136235278\n",
      "recmodel.recall_train: 0.2900297960119184\n",
      "recmodel.precision_val: 0.28076976325626474\n",
      "recmodel.recall_val: 0.20101100208147488\n",
      "recmodel.rmse_train: 231.04182430019418\n",
      "recmodel.rmse_val: 238.47996614421186\n",
      "\n",
      "Training using SVD_implicit model...\n"
     ]
    },
    {
     "name": "stderr",
     "output_type": "stream",
     "text": [
      "  7%|▋         | 1.0/15 [00:00<00:01,  8.88it/s]"
     ]
    },
    {
     "name": "stdout",
     "output_type": "stream",
     "text": [
      "Tranining model...\n"
     ]
    },
    {
     "name": "stderr",
     "output_type": "stream",
     "text": [
      "100%|██████████| 15.0/15 [00:01<00:00,  8.98it/s]\n"
     ]
    },
    {
     "name": "stdout",
     "output_type": "stream",
     "text": [
      "Computing RMSE for training set\n",
      "<class 'ValueError'> Abbeville\n",
      "<class 'ValueError'> Abbeville\n",
      "Computing RMSE for validation set\n"
     ]
    },
    {
     "name": "stderr",
     "output_type": "stream",
     "text": [
      "  0%|          | 6/3000 [00:00<00:52, 57.48it/s]"
     ]
    },
    {
     "name": "stdout",
     "output_type": "stream",
     "text": [
      "Calculating precision, recall on training set\n"
     ]
    },
    {
     "name": "stderr",
     "output_type": "stream",
     "text": [
      "100%|██████████| 3000/3000 [00:53<00:00, 56.38it/s]\n",
      "  0%|          | 11/3000 [00:00<00:28, 106.21it/s]"
     ]
    },
    {
     "name": "stdout",
     "output_type": "stream",
     "text": [
      "tp:7081.0, fp:7438.0, fn:14737.0\n",
      "Calculating precision, recall on validation set\n"
     ]
    },
    {
     "name": "stderr",
     "output_type": "stream",
     "text": [
      "100%|██████████| 3000/3000 [00:27<00:00, 107.46it/s]\n"
     ]
    },
    {
     "name": "stdout",
     "output_type": "stream",
     "text": [
      "tp:2150.0, fp:5073.0, fn:7946.0\n",
      "Done\n",
      "Model:SVD_implicit ,Preprocessing:1, LatentDimensions:40\n",
      "recmodel.precision_train: 0.48770576485983885\n",
      "recmodel.recall_train: 0.3245485379044825\n",
      "recmodel.precision_val: 0.29766025197286444\n",
      "recmodel.recall_val: 0.21295562599049128\n",
      "recmodel.rmse_train: 231.0396467491212\n",
      "recmodel.rmse_val: 238.47989412708193\n",
      "\n",
      "Training using SVD_implicit model...\n"
     ]
    },
    {
     "name": "stderr",
     "output_type": "stream",
     "text": [
      "  7%|▋         | 1.0/15 [00:00<00:01,  7.58it/s]"
     ]
    },
    {
     "name": "stdout",
     "output_type": "stream",
     "text": [
      "Tranining model...\n"
     ]
    },
    {
     "name": "stderr",
     "output_type": "stream",
     "text": [
      "100%|██████████| 15.0/15 [00:01<00:00,  7.68it/s]\n"
     ]
    },
    {
     "name": "stdout",
     "output_type": "stream",
     "text": [
      "Computing RMSE for training set\n",
      "<class 'ValueError'> Abbeville\n",
      "<class 'ValueError'> Abbeville\n",
      "Computing RMSE for validation set\n"
     ]
    },
    {
     "name": "stderr",
     "output_type": "stream",
     "text": [
      "  0%|          | 6/3000 [00:00<00:52, 57.12it/s]"
     ]
    },
    {
     "name": "stdout",
     "output_type": "stream",
     "text": [
      "Calculating precision, recall on training set\n"
     ]
    },
    {
     "name": "stderr",
     "output_type": "stream",
     "text": [
      "100%|██████████| 3000/3000 [00:53<00:00, 56.39it/s]\n",
      "  0%|          | 11/3000 [00:00<00:27, 109.39it/s]"
     ]
    },
    {
     "name": "stdout",
     "output_type": "stream",
     "text": [
      "tp:7685.0, fp:6834.0, fn:14166.0\n",
      "Calculating precision, recall on validation set\n"
     ]
    },
    {
     "name": "stderr",
     "output_type": "stream",
     "text": [
      "100%|██████████| 3000/3000 [00:28<00:00, 106.44it/s]\n"
     ]
    },
    {
     "name": "stdout",
     "output_type": "stream",
     "text": [
      "tp:2259.0, fp:4964.0, fn:7846.0\n",
      "Done\n",
      "Model:SVD_implicit ,Preprocessing:1, LatentDimensions:50\n",
      "recmodel.precision_train: 0.529306426062401\n",
      "recmodel.recall_train: 0.35170015102283647\n",
      "recmodel.precision_val: 0.31275093451474456\n",
      "recmodel.recall_val: 0.2235526966848095\n",
      "recmodel.rmse_train: 231.03807776561783\n",
      "recmodel.rmse_val: 238.47944344594126\n",
      "\n",
      "Training using SVD_implicit model...\n"
     ]
    },
    {
     "name": "stderr",
     "output_type": "stream",
     "text": [
      "  7%|▋         | 1.0/15 [00:00<00:02,  6.59it/s]"
     ]
    },
    {
     "name": "stdout",
     "output_type": "stream",
     "text": [
      "Tranining model...\n"
     ]
    },
    {
     "name": "stderr",
     "output_type": "stream",
     "text": [
      "100%|██████████| 15.0/15 [00:02<00:00,  6.52it/s]\n"
     ]
    },
    {
     "name": "stdout",
     "output_type": "stream",
     "text": [
      "Computing RMSE for training set\n",
      "<class 'ValueError'> Abbeville\n",
      "<class 'ValueError'> Abbeville\n",
      "Computing RMSE for validation set\n"
     ]
    },
    {
     "name": "stderr",
     "output_type": "stream",
     "text": [
      "  0%|          | 6/3000 [00:00<00:50, 59.56it/s]"
     ]
    },
    {
     "name": "stdout",
     "output_type": "stream",
     "text": [
      "Calculating precision, recall on training set\n"
     ]
    },
    {
     "name": "stderr",
     "output_type": "stream",
     "text": [
      "100%|██████████| 3000/3000 [00:53<00:00, 56.24it/s]\n",
      "  0%|          | 10/3000 [00:00<00:30, 97.04it/s]"
     ]
    },
    {
     "name": "stdout",
     "output_type": "stream",
     "text": [
      "tp:8621.0, fp:5898.0, fn:13264.0\n",
      "Calculating precision, recall on validation set\n"
     ]
    },
    {
     "name": "stderr",
     "output_type": "stream",
     "text": [
      "100%|██████████| 3000/3000 [00:28<00:00, 105.19it/s]\n"
     ]
    },
    {
     "name": "stdout",
     "output_type": "stream",
     "text": [
      "tp:2330.0, fp:4893.0, fn:7745.0\n",
      "Done\n",
      "Model:SVD_implicit ,Preprocessing:1, LatentDimensions:70\n",
      "recmodel.precision_train: 0.593773675872994\n",
      "recmodel.recall_train: 0.3939227781585561\n",
      "recmodel.precision_val: 0.3225806451612903\n",
      "recmodel.recall_val: 0.23126550868486354\n",
      "recmodel.rmse_train: 231.03580871372577\n",
      "recmodel.rmse_val: 238.4780226960052\n",
      "\n",
      "Training using SVD_implicit model...\n"
     ]
    },
    {
     "name": "stderr",
     "output_type": "stream",
     "text": [
      "  3%|▎         | 0.5/15 [00:00<00:03,  4.35it/s]"
     ]
    },
    {
     "name": "stdout",
     "output_type": "stream",
     "text": [
      "Tranining model...\n"
     ]
    },
    {
     "name": "stderr",
     "output_type": "stream",
     "text": [
      "100%|██████████| 15.0/15 [00:02<00:00,  5.10it/s]\n"
     ]
    },
    {
     "name": "stdout",
     "output_type": "stream",
     "text": [
      "Computing RMSE for training set\n",
      "<class 'ValueError'> Abbeville\n",
      "<class 'ValueError'> Abbeville\n",
      "Computing RMSE for validation set\n"
     ]
    },
    {
     "name": "stderr",
     "output_type": "stream",
     "text": [
      "  0%|          | 6/3000 [00:00<00:51, 57.99it/s]"
     ]
    },
    {
     "name": "stdout",
     "output_type": "stream",
     "text": [
      "Calculating precision, recall on training set\n"
     ]
    },
    {
     "name": "stderr",
     "output_type": "stream",
     "text": [
      "100%|██████████| 3000/3000 [00:53<00:00, 55.75it/s]\n",
      "  0%|          | 11/3000 [00:00<00:28, 106.01it/s]"
     ]
    },
    {
     "name": "stdout",
     "output_type": "stream",
     "text": [
      "tp:9633.0, fp:4886.0, fn:12248.0\n",
      "Calculating precision, recall on validation set\n"
     ]
    },
    {
     "name": "stderr",
     "output_type": "stream",
     "text": [
      "100%|██████████| 3000/3000 [00:28<00:00, 105.08it/s]\n"
     ]
    },
    {
     "name": "stdout",
     "output_type": "stream",
     "text": [
      "tp:2455.0, fp:4768.0, fn:7598.0\n",
      "Done\n",
      "Model:SVD_implicit ,Preprocessing:1, LatentDimensions:100\n",
      "recmodel.precision_train: 0.6634754459673531\n",
      "recmodel.recall_train: 0.4402449613820209\n",
      "recmodel.precision_val: 0.3398864737643638\n",
      "recmodel.recall_val: 0.24420570973838654\n",
      "recmodel.rmse_train: 231.03363227571467\n",
      "recmodel.rmse_val: 238.47730692950677\n",
      "\n",
      "Training using SVD_implicit model...\n"
     ]
    },
    {
     "name": "stderr",
     "output_type": "stream",
     "text": [
      " 10%|█         | 1.5/15 [00:00<00:01, 10.62it/s]"
     ]
    },
    {
     "name": "stdout",
     "output_type": "stream",
     "text": [
      "Tranining model...\n"
     ]
    },
    {
     "name": "stderr",
     "output_type": "stream",
     "text": [
      "100%|██████████| 15.0/15 [00:01<00:00, 11.43it/s]\n"
     ]
    },
    {
     "name": "stdout",
     "output_type": "stream",
     "text": [
      "Computing RMSE for training set\n",
      "<class 'ValueError'> Abbeville\n",
      "<class 'ValueError'> Abbeville\n",
      "Computing RMSE for validation set\n"
     ]
    },
    {
     "name": "stderr",
     "output_type": "stream",
     "text": [
      "  0%|          | 6/3000 [00:00<00:51, 57.61it/s]"
     ]
    },
    {
     "name": "stdout",
     "output_type": "stream",
     "text": [
      "Calculating precision, recall on training set\n"
     ]
    },
    {
     "name": "stderr",
     "output_type": "stream",
     "text": [
      "100%|██████████| 3000/3000 [00:53<00:00, 56.41it/s]\n",
      "  0%|          | 11/3000 [00:00<00:28, 104.82it/s]"
     ]
    },
    {
     "name": "stdout",
     "output_type": "stream",
     "text": [
      "tp:5204.0, fp:9315.0, fn:16863.0\n",
      "Calculating precision, recall on validation set\n"
     ]
    },
    {
     "name": "stderr",
     "output_type": "stream",
     "text": [
      "100%|██████████| 3000/3000 [00:28<00:00, 106.16it/s]\n"
     ]
    },
    {
     "name": "stdout",
     "output_type": "stream",
     "text": [
      "tp:1482.0, fp:5741.0, fn:8668.0\n",
      "Done\n",
      "Model:SVD_implicit ,Preprocessing:2, LatentDimensions:20\n",
      "recmodel.precision_train: 0.3584268889041945\n",
      "recmodel.recall_train: 0.2358272533647528\n",
      "recmodel.precision_val: 0.20517790391803958\n",
      "recmodel.recall_val: 0.14600985221674878\n",
      "recmodel.rmse_train: 0.8671425835486017\n",
      "recmodel.rmse_val: 0.9190751992244303\n",
      "\n",
      "Training using SVD_implicit model...\n"
     ]
    },
    {
     "name": "stderr",
     "output_type": "stream",
     "text": [
      " 10%|█         | 1.5/15 [00:00<00:01,  9.45it/s]"
     ]
    },
    {
     "name": "stdout",
     "output_type": "stream",
     "text": [
      "Tranining model...\n"
     ]
    },
    {
     "name": "stderr",
     "output_type": "stream",
     "text": [
      "100%|██████████| 15.0/15 [00:01<00:00,  9.93it/s]\n"
     ]
    },
    {
     "name": "stdout",
     "output_type": "stream",
     "text": [
      "Computing RMSE for training set\n",
      "<class 'ValueError'> Abbeville\n",
      "<class 'ValueError'> Abbeville\n",
      "Computing RMSE for validation set\n"
     ]
    },
    {
     "name": "stderr",
     "output_type": "stream",
     "text": [
      "  0%|          | 6/3000 [00:00<00:50, 58.74it/s]"
     ]
    },
    {
     "name": "stdout",
     "output_type": "stream",
     "text": [
      "Calculating precision, recall on training set\n"
     ]
    },
    {
     "name": "stderr",
     "output_type": "stream",
     "text": [
      "100%|██████████| 3000/3000 [00:53<00:00, 56.34it/s]\n",
      "  0%|          | 11/3000 [00:00<00:27, 108.90it/s]"
     ]
    },
    {
     "name": "stdout",
     "output_type": "stream",
     "text": [
      "tp:5890.0, fp:8629.0, fn:16147.0\n",
      "Calculating precision, recall on validation set\n"
     ]
    },
    {
     "name": "stderr",
     "output_type": "stream",
     "text": [
      "100%|██████████| 3000/3000 [00:28<00:00, 106.95it/s]\n"
     ]
    },
    {
     "name": "stdout",
     "output_type": "stream",
     "text": [
      "tp:1592.0, fp:5631.0, fn:8557.0\n",
      "Done\n",
      "Model:SVD_implicit ,Preprocessing:2, LatentDimensions:30\n",
      "recmodel.precision_train: 0.40567532199187273\n",
      "recmodel.recall_train: 0.26727776013068927\n",
      "recmodel.precision_val: 0.2204070330887443\n",
      "recmodel.recall_val: 0.1568627450980392\n",
      "recmodel.rmse_train: 0.8399445613265918\n",
      "recmodel.rmse_val: 0.9085165746420414\n",
      "\n",
      "Training using SVD_implicit model...\n"
     ]
    },
    {
     "name": "stderr",
     "output_type": "stream",
     "text": [
      " 10%|█         | 1.5/15 [00:00<00:01, 10.45it/s]"
     ]
    },
    {
     "name": "stdout",
     "output_type": "stream",
     "text": [
      "Tranining model...\n"
     ]
    },
    {
     "name": "stderr",
     "output_type": "stream",
     "text": [
      "100%|██████████| 15.0/15 [00:01<00:00, 10.54it/s]\n"
     ]
    },
    {
     "name": "stdout",
     "output_type": "stream",
     "text": [
      "Computing RMSE for training set\n",
      "<class 'ValueError'> Abbeville\n",
      "<class 'ValueError'> Abbeville\n",
      "Computing RMSE for validation set\n"
     ]
    },
    {
     "name": "stderr",
     "output_type": "stream",
     "text": [
      "  0%|          | 6/3000 [00:00<00:51, 57.86it/s]"
     ]
    },
    {
     "name": "stdout",
     "output_type": "stream",
     "text": [
      "Calculating precision, recall on training set\n"
     ]
    },
    {
     "name": "stderr",
     "output_type": "stream",
     "text": [
      "100%|██████████| 3000/3000 [00:52<00:00, 56.72it/s]\n",
      "  0%|          | 11/3000 [00:00<00:27, 108.23it/s]"
     ]
    },
    {
     "name": "stdout",
     "output_type": "stream",
     "text": [
      "tp:6420.0, fp:8099.0, fn:15562.0\n",
      "Calculating precision, recall on validation set\n"
     ]
    },
    {
     "name": "stderr",
     "output_type": "stream",
     "text": [
      "100%|██████████| 3000/3000 [00:28<00:00, 106.05it/s]\n"
     ]
    },
    {
     "name": "stdout",
     "output_type": "stream",
     "text": [
      "tp:1653.0, fp:5570.0, fn:8484.0\n",
      "Done\n",
      "Model:SVD_implicit ,Preprocessing:2, LatentDimensions:40\n",
      "recmodel.precision_train: 0.4421792134444521\n",
      "recmodel.recall_train: 0.2920571376580839\n",
      "recmodel.precision_val: 0.22885227744704417\n",
      "recmodel.recall_val: 0.16306599585676235\n",
      "recmodel.rmse_train: 0.8212677078945617\n",
      "recmodel.rmse_val: 0.9022487808827118\n",
      "\n",
      "Training using SVD_implicit model...\n"
     ]
    },
    {
     "name": "stderr",
     "output_type": "stream",
     "text": [
      "  7%|▋         | 1.0/15 [00:00<00:01,  8.99it/s]"
     ]
    },
    {
     "name": "stdout",
     "output_type": "stream",
     "text": [
      "Tranining model...\n"
     ]
    },
    {
     "name": "stderr",
     "output_type": "stream",
     "text": [
      "100%|██████████| 15.0/15 [00:01<00:00,  8.68it/s]\n"
     ]
    },
    {
     "name": "stdout",
     "output_type": "stream",
     "text": [
      "Computing RMSE for training set\n",
      "<class 'ValueError'> Abbeville\n",
      "<class 'ValueError'> Abbeville\n",
      "Computing RMSE for validation set\n"
     ]
    },
    {
     "name": "stderr",
     "output_type": "stream",
     "text": [
      "  0%|          | 6/3000 [00:00<00:53, 55.46it/s]"
     ]
    },
    {
     "name": "stdout",
     "output_type": "stream",
     "text": [
      "Calculating precision, recall on training set\n"
     ]
    },
    {
     "name": "stderr",
     "output_type": "stream",
     "text": [
      "100%|██████████| 3000/3000 [00:53<00:00, 56.28it/s]\n",
      "  0%|          | 11/3000 [00:00<00:28, 104.43it/s]"
     ]
    },
    {
     "name": "stdout",
     "output_type": "stream",
     "text": [
      "tp:6879.0, fp:7640.0, fn:15069.0\n",
      "Calculating precision, recall on validation set\n"
     ]
    },
    {
     "name": "stderr",
     "output_type": "stream",
     "text": [
      "100%|██████████| 3000/3000 [00:28<00:00, 106.97it/s]\n"
     ]
    },
    {
     "name": "stdout",
     "output_type": "stream",
     "text": [
      "tp:1715.0, fp:5508.0, fn:8406.0\n",
      "Done\n",
      "Model:SVD_implicit ,Preprocessing:2, LatentDimensions:50\n",
      "recmodel.precision_train: 0.47379296094772366\n",
      "recmodel.recall_train: 0.31342263531984693\n",
      "recmodel.precision_val: 0.23743596843416861\n",
      "recmodel.recall_val: 0.16944965912459242\n",
      "recmodel.rmse_train: 0.8049775044462811\n",
      "recmodel.rmse_val: 0.8959201444270039\n",
      "\n",
      "Training using SVD_implicit model...\n"
     ]
    },
    {
     "name": "stderr",
     "output_type": "stream",
     "text": [
      "  7%|▋         | 1.0/15 [00:00<00:01,  7.53it/s]"
     ]
    },
    {
     "name": "stdout",
     "output_type": "stream",
     "text": [
      "Tranining model...\n"
     ]
    },
    {
     "name": "stderr",
     "output_type": "stream",
     "text": [
      "100%|██████████| 15.0/15 [00:02<00:00,  7.44it/s]\n"
     ]
    },
    {
     "name": "stdout",
     "output_type": "stream",
     "text": [
      "Computing RMSE for training set\n",
      "<class 'ValueError'> Abbeville\n",
      "<class 'ValueError'> Abbeville\n",
      "Computing RMSE for validation set\n"
     ]
    },
    {
     "name": "stderr",
     "output_type": "stream",
     "text": [
      "  0%|          | 6/3000 [00:00<00:50, 59.86it/s]"
     ]
    },
    {
     "name": "stdout",
     "output_type": "stream",
     "text": [
      "Calculating precision, recall on training set\n"
     ]
    },
    {
     "name": "stderr",
     "output_type": "stream",
     "text": [
      "100%|██████████| 3000/3000 [00:53<00:00, 56.53it/s]\n",
      "  0%|          | 11/3000 [00:00<00:28, 105.01it/s]"
     ]
    },
    {
     "name": "stdout",
     "output_type": "stream",
     "text": [
      "tp:7618.0, fp:6901.0, fn:14353.0\n",
      "Calculating precision, recall on validation set\n"
     ]
    },
    {
     "name": "stderr",
     "output_type": "stream",
     "text": [
      "100%|██████████| 3000/3000 [00:28<00:00, 105.82it/s]\n"
     ]
    },
    {
     "name": "stdout",
     "output_type": "stream",
     "text": [
      "tp:1794.0, fp:5429.0, fn:8307.0\n",
      "Done\n",
      "Model:SVD_implicit ,Preprocessing:2, LatentDimensions:70\n",
      "recmodel.precision_train: 0.5246917831806598\n",
      "recmodel.recall_train: 0.34672978016476264\n",
      "recmodel.precision_val: 0.2483732521113111\n",
      "recmodel.recall_val: 0.1776061776061776\n",
      "recmodel.rmse_train: 0.7775483502829056\n",
      "recmodel.rmse_val: 0.8868770905491329\n",
      "\n",
      "Training using SVD_implicit model...\n"
     ]
    },
    {
     "name": "stderr",
     "output_type": "stream",
     "text": [
      "  3%|▎         | 0.5/15 [00:00<00:03,  4.66it/s]"
     ]
    },
    {
     "name": "stdout",
     "output_type": "stream",
     "text": [
      "Tranining model...\n"
     ]
    },
    {
     "name": "stderr",
     "output_type": "stream",
     "text": [
      "100%|██████████| 15.0/15 [00:02<00:00,  5.65it/s]\n"
     ]
    },
    {
     "name": "stdout",
     "output_type": "stream",
     "text": [
      "Computing RMSE for training set\n",
      "<class 'ValueError'> Abbeville\n",
      "<class 'ValueError'> Abbeville\n",
      "Computing RMSE for validation set\n"
     ]
    },
    {
     "name": "stderr",
     "output_type": "stream",
     "text": [
      "  0%|          | 12/3000 [00:00<00:50, 59.15it/s]"
     ]
    },
    {
     "name": "stdout",
     "output_type": "stream",
     "text": [
      "Calculating precision, recall on training set\n"
     ]
    },
    {
     "name": "stderr",
     "output_type": "stream",
     "text": [
      "100%|██████████| 3000/3000 [00:53<00:00, 54.68it/s]\n",
      "  0%|          | 9/3000 [00:00<00:33, 88.91it/s]"
     ]
    },
    {
     "name": "stdout",
     "output_type": "stream",
     "text": [
      "tp:8504.0, fp:6015.0, fn:13450.0\n",
      "Calculating precision, recall on validation set\n"
     ]
    },
    {
     "name": "stderr",
     "output_type": "stream",
     "text": [
      "100%|██████████| 3000/3000 [00:28<00:00, 104.93it/s]"
     ]
    },
    {
     "name": "stdout",
     "output_type": "stream",
     "text": [
      "tp:1909.0, fp:5314.0, fn:8201.0\n",
      "Done\n",
      "Model:SVD_implicit ,Preprocessing:2, LatentDimensions:100\n",
      "recmodel.precision_train: 0.5857152696466699\n",
      "recmodel.recall_train: 0.3873553794297167\n",
      "recmodel.precision_val: 0.2642946144261387\n",
      "recmodel.recall_val: 0.18882294757665677\n",
      "recmodel.rmse_train: 0.7442415895241971\n",
      "recmodel.rmse_val: 0.8782488236702204\n",
      "\n"
     ]
    },
    {
     "name": "stderr",
     "output_type": "stream",
     "text": [
      "\n"
     ]
    }
   ],
   "source": [
    "for m in model:\n",
    "    for p in prep:\n",
    "        for dim in latent_dim:\n",
    "            recmodel = locationRec()\n",
    "            recmodel.datapipeline(preproccesing=p)\n",
    "            if m=='SVD':\n",
    "                recmodel.train_model(model_type='SVD', latent_dimension=dim, N=10)\n",
    "                recmodel.eval_precision_N(N=10, data = 'train')\n",
    "                recmodel.eval_precision_N(N=10, data = 'val')\n",
    "                recmodel.eval_rmse(data = 'train')\n",
    "                recmodel.eval_rmse(data = 'val')\n",
    "            elif m=='SVD_implicit':\n",
    "                recmodel.train_model(model_type='SVD_implicit', latent_dimension=dim, N=10)\n",
    "            print('Model:{} ,Preprocessing:{}, LatentDimensions:{}'.format(m,p,dim))\n",
    "            print('recmodel.precision_train: {}\\nrecmodel.recall_train: {}\\nrecmodel.precision_val: {}\\nrecmodel.recall_val: {}\\nrecmodel.rmse_train: {}\\nrecmodel.rmse_val: {}'.format(recmodel.precision_train, recmodel.recall_train, recmodel.precision_val, recmodel.recall_val, recmodel.rmse_train, recmodel.rmse_val))\n",
    "            print()"
   ]
  }
 ],
 "metadata": {
  "kernelspec": {
   "display_name": "Python 3",
   "language": "python",
   "name": "python3"
  },
  "language_info": {
   "codemirror_mode": {
    "name": "ipython",
    "version": 3
   },
   "file_extension": ".py",
   "mimetype": "text/x-python",
   "name": "python",
   "nbconvert_exporter": "python",
   "pygments_lexer": "ipython3",
   "version": "3.6.6"
  }
 },
 "nbformat": 4,
 "nbformat_minor": 2
}
